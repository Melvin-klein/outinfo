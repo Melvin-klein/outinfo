{
 "cells": [
  {
   "cell_type": "markdown",
   "metadata": {},
   "source": [
    "**NARGEOT** Melvine\n",
    "**PATTE** Mathys\n",
    "\n",
    "# Projet Outil Informatique"
   ]
  },
  {
   "cell_type": "code",
   "execution_count": null,
   "outputs": [],
   "source": [
    "%pip install requests"
   ],
   "metadata": {
    "collapsed": false
   }
  },
  {
   "cell_type": "code",
   "execution_count": 13,
   "metadata": {
    "ExecuteTime": {
     "end_time": "2023-12-16T11:20:03.573036249Z",
     "start_time": "2023-12-16T11:20:03.526752486Z"
    }
   },
   "outputs": [],
   "source": [
    "import numpy as np\n",
    "import matplotlib.pyplot as plt\n",
    "import pandas as pd\n",
    "import requests"
   ]
  },
  {
   "cell_type": "markdown",
   "metadata": {},
   "source": [
    "## Données"
   ]
  },
  {
   "cell_type": "markdown",
   "metadata": {},
   "source": [
    "### Sources\n",
    "\n",
    "https://www.ngdc.noaa.gov/hazel/hazard-service/api/v1/volcanoes?page=1\n",
    "https://volcano.si.edu/search_eruption.cfm\n",
    "https://www.kaggle.com/datasets/jessemostipak/volcano-eruptions/\n",
    "https://data.cerdi.uca.fr/erup-vol/\n",
    "https://public.opendatasoft.com/explore/dataset/significant-volcanic-eruption-database/export/\n",
    "https://www.ngdc.noaa.gov/hazel/view/hazards/volcano/event-search/\n",
    "https://berkeleyearth.org/data/"
   ]
  },
  {
   "cell_type": "markdown",
   "metadata": {},
   "source": [
    "### Import"
   ]
  },
  {
   "cell_type": "code",
   "execution_count": 16,
   "outputs": [],
   "source": [
    "url = (\"https://public.opendatasoft.com/api/explore/v2.1/catalog/datasets/significant-volcanic-eruption-database/exports/json?lang=fr&timezone=Europe%2FBerlin\")\n",
    "\n",
    "response = requests.get(url)\n",
    "\n",
    "with open(\"datasets/volcanic.json\", mode=\"wb\") as file:\n",
    "    file.write(response.content)"
   ],
   "metadata": {
    "collapsed": false,
    "ExecuteTime": {
     "end_time": "2023-12-16T11:22:59.742391440Z",
     "start_time": "2023-12-16T11:22:58.987023424Z"
    }
   }
  },
  {
   "cell_type": "code",
   "execution_count": 17,
   "outputs": [
    {
     "data": {
      "text/plain": "     year  month   day      tsu    eq             name      location  \\\n0    -141    NaN   NaN     None  None             Etna         Italy   \n1    1262    NaN   NaN     None  None            Katla     Iceland-S   \n2    1300    7.0  11.0     None  None            Hekla     Iceland-S   \n3    1331   12.0   NaN     None  None              Aso  Kyushu-Japan   \n4    1714    6.0  30.0  Tsunami  None         Vesuvius         Italy   \n..    ...    ...   ...      ...   ...              ...           ...   \n830  1979    7.0   5.0     None  None             Etna         Italy   \n831  1982    5.0  17.0     None  None       Galunggung          Java   \n832  1988    7.0   6.0     None  None           Arenal    Costa Rica   \n833  2005   11.0  24.0     None  None         Karthala    Indian O-W   \n834  2010   12.0  28.0     None  None  Tengger Caldera          Java   \n\n        country  elevation                type  ... total_missing_description  \\\n0         Italy       3350       Stratovolcano  ...                      None   \n1       Iceland       1512  Subglacial volcano  ...                      None   \n2       Iceland       1491       Stratovolcano  ...                      None   \n3         Japan       1592             Caldera  ...                      None   \n4         Italy       1281     Complex volcano  ...                      None   \n..          ...        ...                 ...  ...                       ...   \n830       Italy       3350       Stratovolcano  ...                      None   \n831   Indonesia       2168       Stratovolcano  ...                      None   \n832  Costa Rica       1657       Stratovolcano  ...                      None   \n833     Comoros       2361      Shield volcano  ...                      None   \n834   Indonesia       2329       Stratovolcano  ...                      None   \n\n     total_injuries  total_injuries_description total_damage_millions_dollars  \\\n0               NaN                        None                           NaN   \n1               NaN                        None                           NaN   \n2               NaN                        None                           NaN   \n3               NaN                        None                           NaN   \n4               NaN                        None                           NaN   \n..              ...                         ...                           ...   \n830            23.0       Few (~1 to 50 deaths)                           NaN   \n831             NaN                        None                          15.0   \n832             NaN                        None                           NaN   \n833             NaN                        None                           NaN   \n834             NaN                        None                           NaN   \n\n                              total_damage_description total_houses_destroyed  \\\n0                                                 None                    NaN   \n1                                                 None                    NaN   \n2                                                 None                    NaN   \n3                                                 None                    NaN   \n4                                                 None                    NaN   \n..                                                 ...                    ...   \n830                                               None                    NaN   \n831                       SEVERE (~>$5 to $24 million)                    NaN   \n832                                               None                    NaN   \n833  LIMITED (roughly corresponding to less than $1...                    NaN   \n834                                               None                    NaN   \n\n     total_houses_destroyed_description                      coordinates  \\\n0                                  None   {'lon': 15.004, 'lat': 37.734}   \n1                                  None    {'lon': -19.05, 'lat': 63.63}   \n2                                  None     {'lon': -19.7, 'lat': 63.98}   \n3                                  None     {'lon': 131.1, 'lat': 32.88}   \n4                                  None   {'lon': 14.426, 'lat': 40.821}   \n..                                  ...                              ...   \n830                                None   {'lon': 15.004, 'lat': 37.734}   \n831                                None    {'lon': 108.05, 'lat': -7.25}   \n832                                None  {'lon': -84.703, 'lat': 10.463}   \n833                                None    {'lon': 43.38, 'lat': -11.75}   \n834                                None   {'lon': 112.95, 'lat': -7.942}   \n\n     houses_damaged_description total_houses_damaged_description  \n0                           NaN                              NaN  \n1                           NaN                              NaN  \n2                           NaN                              NaN  \n3                           NaN                              NaN  \n4                           NaN                              NaN  \n..                          ...                              ...  \n830                         NaN                              NaN  \n831                         NaN                              NaN  \n832                         NaN                              NaN  \n833                         NaN                              NaN  \n834                         NaN                              NaN  \n\n[835 rows x 35 columns]",
      "text/html": "<div>\n<style scoped>\n    .dataframe tbody tr th:only-of-type {\n        vertical-align: middle;\n    }\n\n    .dataframe tbody tr th {\n        vertical-align: top;\n    }\n\n    .dataframe thead th {\n        text-align: right;\n    }\n</style>\n<table border=\"1\" class=\"dataframe\">\n  <thead>\n    <tr style=\"text-align: right;\">\n      <th></th>\n      <th>year</th>\n      <th>month</th>\n      <th>day</th>\n      <th>tsu</th>\n      <th>eq</th>\n      <th>name</th>\n      <th>location</th>\n      <th>country</th>\n      <th>elevation</th>\n      <th>type</th>\n      <th>...</th>\n      <th>total_missing_description</th>\n      <th>total_injuries</th>\n      <th>total_injuries_description</th>\n      <th>total_damage_millions_dollars</th>\n      <th>total_damage_description</th>\n      <th>total_houses_destroyed</th>\n      <th>total_houses_destroyed_description</th>\n      <th>coordinates</th>\n      <th>houses_damaged_description</th>\n      <th>total_houses_damaged_description</th>\n    </tr>\n  </thead>\n  <tbody>\n    <tr>\n      <th>0</th>\n      <td>-141</td>\n      <td>NaN</td>\n      <td>NaN</td>\n      <td>None</td>\n      <td>None</td>\n      <td>Etna</td>\n      <td>Italy</td>\n      <td>Italy</td>\n      <td>3350</td>\n      <td>Stratovolcano</td>\n      <td>...</td>\n      <td>None</td>\n      <td>NaN</td>\n      <td>None</td>\n      <td>NaN</td>\n      <td>None</td>\n      <td>NaN</td>\n      <td>None</td>\n      <td>{'lon': 15.004, 'lat': 37.734}</td>\n      <td>NaN</td>\n      <td>NaN</td>\n    </tr>\n    <tr>\n      <th>1</th>\n      <td>1262</td>\n      <td>NaN</td>\n      <td>NaN</td>\n      <td>None</td>\n      <td>None</td>\n      <td>Katla</td>\n      <td>Iceland-S</td>\n      <td>Iceland</td>\n      <td>1512</td>\n      <td>Subglacial volcano</td>\n      <td>...</td>\n      <td>None</td>\n      <td>NaN</td>\n      <td>None</td>\n      <td>NaN</td>\n      <td>None</td>\n      <td>NaN</td>\n      <td>None</td>\n      <td>{'lon': -19.05, 'lat': 63.63}</td>\n      <td>NaN</td>\n      <td>NaN</td>\n    </tr>\n    <tr>\n      <th>2</th>\n      <td>1300</td>\n      <td>7.0</td>\n      <td>11.0</td>\n      <td>None</td>\n      <td>None</td>\n      <td>Hekla</td>\n      <td>Iceland-S</td>\n      <td>Iceland</td>\n      <td>1491</td>\n      <td>Stratovolcano</td>\n      <td>...</td>\n      <td>None</td>\n      <td>NaN</td>\n      <td>None</td>\n      <td>NaN</td>\n      <td>None</td>\n      <td>NaN</td>\n      <td>None</td>\n      <td>{'lon': -19.7, 'lat': 63.98}</td>\n      <td>NaN</td>\n      <td>NaN</td>\n    </tr>\n    <tr>\n      <th>3</th>\n      <td>1331</td>\n      <td>12.0</td>\n      <td>NaN</td>\n      <td>None</td>\n      <td>None</td>\n      <td>Aso</td>\n      <td>Kyushu-Japan</td>\n      <td>Japan</td>\n      <td>1592</td>\n      <td>Caldera</td>\n      <td>...</td>\n      <td>None</td>\n      <td>NaN</td>\n      <td>None</td>\n      <td>NaN</td>\n      <td>None</td>\n      <td>NaN</td>\n      <td>None</td>\n      <td>{'lon': 131.1, 'lat': 32.88}</td>\n      <td>NaN</td>\n      <td>NaN</td>\n    </tr>\n    <tr>\n      <th>4</th>\n      <td>1714</td>\n      <td>6.0</td>\n      <td>30.0</td>\n      <td>Tsunami</td>\n      <td>None</td>\n      <td>Vesuvius</td>\n      <td>Italy</td>\n      <td>Italy</td>\n      <td>1281</td>\n      <td>Complex volcano</td>\n      <td>...</td>\n      <td>None</td>\n      <td>NaN</td>\n      <td>None</td>\n      <td>NaN</td>\n      <td>None</td>\n      <td>NaN</td>\n      <td>None</td>\n      <td>{'lon': 14.426, 'lat': 40.821}</td>\n      <td>NaN</td>\n      <td>NaN</td>\n    </tr>\n    <tr>\n      <th>...</th>\n      <td>...</td>\n      <td>...</td>\n      <td>...</td>\n      <td>...</td>\n      <td>...</td>\n      <td>...</td>\n      <td>...</td>\n      <td>...</td>\n      <td>...</td>\n      <td>...</td>\n      <td>...</td>\n      <td>...</td>\n      <td>...</td>\n      <td>...</td>\n      <td>...</td>\n      <td>...</td>\n      <td>...</td>\n      <td>...</td>\n      <td>...</td>\n      <td>...</td>\n      <td>...</td>\n    </tr>\n    <tr>\n      <th>830</th>\n      <td>1979</td>\n      <td>7.0</td>\n      <td>5.0</td>\n      <td>None</td>\n      <td>None</td>\n      <td>Etna</td>\n      <td>Italy</td>\n      <td>Italy</td>\n      <td>3350</td>\n      <td>Stratovolcano</td>\n      <td>...</td>\n      <td>None</td>\n      <td>23.0</td>\n      <td>Few (~1 to 50 deaths)</td>\n      <td>NaN</td>\n      <td>None</td>\n      <td>NaN</td>\n      <td>None</td>\n      <td>{'lon': 15.004, 'lat': 37.734}</td>\n      <td>NaN</td>\n      <td>NaN</td>\n    </tr>\n    <tr>\n      <th>831</th>\n      <td>1982</td>\n      <td>5.0</td>\n      <td>17.0</td>\n      <td>None</td>\n      <td>None</td>\n      <td>Galunggung</td>\n      <td>Java</td>\n      <td>Indonesia</td>\n      <td>2168</td>\n      <td>Stratovolcano</td>\n      <td>...</td>\n      <td>None</td>\n      <td>NaN</td>\n      <td>None</td>\n      <td>15.0</td>\n      <td>SEVERE (~&gt;$5 to $24 million)</td>\n      <td>NaN</td>\n      <td>None</td>\n      <td>{'lon': 108.05, 'lat': -7.25}</td>\n      <td>NaN</td>\n      <td>NaN</td>\n    </tr>\n    <tr>\n      <th>832</th>\n      <td>1988</td>\n      <td>7.0</td>\n      <td>6.0</td>\n      <td>None</td>\n      <td>None</td>\n      <td>Arenal</td>\n      <td>Costa Rica</td>\n      <td>Costa Rica</td>\n      <td>1657</td>\n      <td>Stratovolcano</td>\n      <td>...</td>\n      <td>None</td>\n      <td>NaN</td>\n      <td>None</td>\n      <td>NaN</td>\n      <td>None</td>\n      <td>NaN</td>\n      <td>None</td>\n      <td>{'lon': -84.703, 'lat': 10.463}</td>\n      <td>NaN</td>\n      <td>NaN</td>\n    </tr>\n    <tr>\n      <th>833</th>\n      <td>2005</td>\n      <td>11.0</td>\n      <td>24.0</td>\n      <td>None</td>\n      <td>None</td>\n      <td>Karthala</td>\n      <td>Indian O-W</td>\n      <td>Comoros</td>\n      <td>2361</td>\n      <td>Shield volcano</td>\n      <td>...</td>\n      <td>None</td>\n      <td>NaN</td>\n      <td>None</td>\n      <td>NaN</td>\n      <td>LIMITED (roughly corresponding to less than $1...</td>\n      <td>NaN</td>\n      <td>None</td>\n      <td>{'lon': 43.38, 'lat': -11.75}</td>\n      <td>NaN</td>\n      <td>NaN</td>\n    </tr>\n    <tr>\n      <th>834</th>\n      <td>2010</td>\n      <td>12.0</td>\n      <td>28.0</td>\n      <td>None</td>\n      <td>None</td>\n      <td>Tengger Caldera</td>\n      <td>Java</td>\n      <td>Indonesia</td>\n      <td>2329</td>\n      <td>Stratovolcano</td>\n      <td>...</td>\n      <td>None</td>\n      <td>NaN</td>\n      <td>None</td>\n      <td>NaN</td>\n      <td>None</td>\n      <td>NaN</td>\n      <td>None</td>\n      <td>{'lon': 112.95, 'lat': -7.942}</td>\n      <td>NaN</td>\n      <td>NaN</td>\n    </tr>\n  </tbody>\n</table>\n<p>835 rows × 35 columns</p>\n</div>"
     },
     "execution_count": 17,
     "metadata": {},
     "output_type": "execute_result"
    }
   ],
   "source": [
    "volcanic = pd.read_json(\"datasets/volcanic.json\")"
   ],
   "metadata": {
    "collapsed": false,
    "ExecuteTime": {
     "end_time": "2023-12-16T11:24:31.736068318Z",
     "start_time": "2023-12-16T11:24:31.564705055Z"
    }
   }
  },
  {
   "cell_type": "markdown",
   "metadata": {},
   "source": [
    "### Cleaning"
   ]
  },
  {
   "cell_type": "markdown",
   "metadata": {},
   "source": [
    "## Analyse"
   ]
  },
  {
   "cell_type": "code",
   "execution_count": null,
   "outputs": [],
   "source": [],
   "metadata": {
    "collapsed": false
   }
  }
 ],
 "metadata": {
  "kernelspec": {
   "display_name": "base",
   "language": "python",
   "name": "python3"
  },
  "language_info": {
   "name": "python",
   "version": "3.8.5"
  }
 },
 "nbformat": 4,
 "nbformat_minor": 2
}
