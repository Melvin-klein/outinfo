{
 "cells": [
  {
   "cell_type": "markdown",
   "metadata": {},
   "source": [
    "**NARGEOT** Melvine\n",
    "**PATTE** Mathys\n",
    "\n",
    "# Projet Outil Informatique"
   ]
  },
  {
   "cell_type": "code",
   "execution_count": null,
   "metadata": {},
   "outputs": [],
   "source": [
    "import numpy as np\n",
    "import matplotlib.pyplot as plt\n",
    "import pandas as pd"
   ]
  },
  {
   "cell_type": "markdown",
   "metadata": {},
   "source": [
    "## Données"
   ]
  },
  {
   "cell_type": "markdown",
   "metadata": {},
   "source": [
    "### Sources\n",
    "\n",
    "https://www.ngdc.noaa.gov/hazel/hazard-service/api/v1/volcanoes?page=1\n",
    "https://volcano.si.edu/search_eruption.cfm\n",
    "https://www.kaggle.com/datasets/jessemostipak/volcano-eruptions/\n",
    "https://data.cerdi.uca.fr/erup-vol/\n",
    "https://public.opendatasoft.com/explore/dataset/significant-volcanic-eruption-database/export/\n",
    "https://www.ngdc.noaa.gov/hazel/view/hazards/volcano/event-search/\n",
    "https://berkeleyearth.org/data/"
   ]
  },
  {
   "cell_type": "markdown",
   "metadata": {},
   "source": [
    "### Import"
   ]
  },
  {
   "cell_type": "markdown",
   "metadata": {},
   "source": [
    "### Cleaning"
   ]
  },
  {
   "cell_type": "markdown",
   "metadata": {},
   "source": [
    "## Analyse"
   ]
  }
 ],
 "metadata": {
  "kernelspec": {
   "display_name": "base",
   "language": "python",
   "name": "python3"
  },
  "language_info": {
   "name": "python",
   "version": "3.8.5"
  }
 },
 "nbformat": 4,
 "nbformat_minor": 2
}
