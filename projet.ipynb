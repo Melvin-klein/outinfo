{
 "cells": [
  {
   "cell_type": "markdown",
   "metadata": {},
   "source": [
    "**NARGEOT** Melvine\n",
    "**PATTE** Mathys\n",
    "\n",
    "# Projet Outil Informatique"
   ]
  },
  {
   "cell_type": "code",
   "execution_count": 1,
   "metadata": {},
   "outputs": [],
   "source": [
    "import numpy as np\n",
    "import matplotlib.pyplot as plt\n",
    "import pandas as pd"
   ]
  },
  {
   "cell_type": "markdown",
   "metadata": {},
   "source": [
    "## Données"
   ]
  },
  {
   "cell_type": "markdown",
   "metadata": {},
   "source": [
    "### Sources\n",
    "\n",
    "https://www.ngdc.noaa.gov/hazel/hazard-service/api/v1/volcanoes?page=1\n",
    "\n",
    "https://volcano.si.edu/search_eruption.cfm\n",
    "\n",
    "https://www.kaggle.com/datasets/jessemostipak/volcano-eruptions/\n",
    "\n",
    "https://data.cerdi.uca.fr/erup-vol/\n",
    "\n",
    "https://public.opendatasoft.com/explore/dataset/significant-volcanic-eruption-database/export/\n",
    "\n",
    "https://www.ngdc.noaa.gov/hazel/view/hazards/volcano/event-search/\n",
    "\n",
    "https://berkeleyearth.org/data/"
   ]
  },
  {
   "cell_type": "markdown",
   "metadata": {},
   "source": [
    "### Import"
   ]
  },
  {
   "cell_type": "markdown",
   "metadata": {},
   "source": [
    "### Cleaning"
   ]
  },
  {
   "cell_type": "markdown",
   "metadata": {},
   "source": [
    "## Analyse"
   ]
  }
 ],
 "metadata": {
  "kernelspec": {
   "display_name": "base",
   "language": "python",
   "name": "python3"
  },
  "language_info": {
   "codemirror_mode": {
    "name": "ipython",
    "version": 3
   },
   "file_extension": ".py",
   "mimetype": "text/x-python",
   "name": "python",
   "nbconvert_exporter": "python",
   "pygments_lexer": "ipython3",
   "version": "3.11.5"
  }
 },
 "nbformat": 4,
 "nbformat_minor": 2
}
