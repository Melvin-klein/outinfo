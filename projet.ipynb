{
 "cells": [
  {
   "cell_type": "markdown",
   "metadata": {},
   "source": [
    "**NARGEOT** Melvine\n",
    "**PATTE** Mathys\n",
    "\n",
    "# Projet Outil Informatique"
   ]
  },
  {
   "cell_type": "markdown",
   "metadata": {},
   "source": [
    "https://www.sciencedirect.com/topics/earth-and-planetary-sciences/volcanic-aerosol\n",
    "\n",
    "The Greenhouse Effect, Aerosols, and Climate Change\n",
    "\n",
    "Daniel Kirk-Davidoff, in Green Chemistry, 2018\n",
    "\n",
    "\"Volcanoes emit sulfur dioxide gas (SO2), which reacts with water in the atmosphere to form sulfuric acid (H2SO4). When volcanic plumes are emitted powerfully enough to reach the stratosphere,a the H2SO4 can form a persistent haze of liquid droplets, reflecting away sunlight and cooling the earth for a year or two.\""
   ]
  },
  {
   "cell_type": "code",
   "execution_count": null,
   "metadata": {
    "collapsed": false
   },
   "outputs": [],
   "source": [
    "%pip install numpy matplotlib pandas # Handle data\n",
    "%pip install xarray netcdf4 h5netcdf # Handle NetCFD file\n",
    "%pip install folium # World map\n",
    "%pip install beautifulsoup4 # Web scrapping\n",
    "%pip install geopandas\n",
    "%pip install slugify"
   ]
  },
  {
   "cell_type": "code",
   "execution_count": null,
   "metadata": {},
   "outputs": [],
   "source": [
    "import numpy as np\n",
    "import matplotlib.pyplot as plt\n",
    "import pandas as pd\n",
    "import xarray as xr\n",
    "import folium as fl\n",
    "from bs4 import BeautifulSoup\n",
    "from urllib.request import urlopen\n",
    "import geopandas as gpd"
   ]
  },
  {
   "cell_type": "markdown",
   "metadata": {},
   "source": [
    "## Données"
   ]
  },
  {
   "cell_type": "markdown",
   "metadata": {},
   "source": [
    "### Sources\n",
    "\n",
    "https://www.ngdc.noaa.gov/hazel/hazard-service/api/v1/volcanoes?page=1\n",
    "\n",
    "https://volcano.si.edu/search_eruption.cfm\n",
    "\n",
    "https://www.kaggle.com/datasets/jessemostipak/volcano-eruptions/\n",
    "\n",
    "https://data.cerdi.uca.fr/erup-vol/\n",
    "\n",
    "https://public.opendatasoft.com/explore/dataset/significant-volcanic-eruption-database/export/\n",
    "\n",
    "https://www.ngdc.noaa.gov/hazel/view/hazards/volcano/event-search/\n",
    "\n",
    "https://berkeleyearth.org/data/\n",
    "\n",
    "https://disc.gsfc.nasa.gov/datasets?keywords=%22msvolso2l4%22%7C%22tomsn7so2%22%7C%22OMPS_NPP_NMSO2_PCA_L2%22%7C%22MSAQSO2L4%22&page=1&subject=Aerosols\n",
    "\n",
    "https://measures.gesdisc.eosdis.nasa.gov/data/SO2/MSVOLSO2L4.4/MSVOLSO2L4_v04-00-2022m0505.txt"
   ]
  },
  {
   "cell_type": "markdown",
   "metadata": {},
   "source": [
    "### Import"
   ]
  },
  {
   "cell_type": "code",
   "execution_count": null,
   "metadata": {},
   "outputs": [],
   "source": [
    "from urllib.request import urlopen\n",
    "from io import StringIO\n",
    "\n",
    "# We retrieve the file and remove the 47 first lines which are comments\n",
    "# https://measures.gesdisc.eosdis.nasa.gov/data/SO2/MSVOLSO2L4.4/MSVOLSO2L4_v04-00-2022m0505.txt\n",
    "data = urlopen(\"https://melvin-klein.github.io/outinfo/so2.txt\").readlines()[47:]\n",
    "\n",
    "# Some lines have too many cells, we delete them.\n",
    "data[1172] = data[1172][:-4] + b'\\n'\n",
    "data[2033] = data[2033][:-4] + b'\\n'\n",
    "\n",
    "# We change the list of byte to a single string\n",
    "data = str(b''.join(data), 'utf-8')\n",
    "\n",
    "# We convert string to a file-like object\n",
    "# and we create the dataframe\n",
    "data = StringIO(data) \n",
    "df_raw_so2 = pd.read_csv(data, sep=\"\\t\")\n",
    "df_raw_so2"
   ]
  },
  {
   "cell_type": "code",
   "execution_count": null,
   "metadata": {},
   "outputs": [],
   "source": [
    "# We clear the dataframe from NaN values and keep significative columns\n",
    "columns = ['volcano', 'lat', 'lon', 'yyyy', 'mm', 'dd', 'so2(kt)']\n",
    "\n",
    "df_cleared_so2 = df_raw_so2.dropna(subset=columns)\n",
    "\n",
    "df_cleared_so2 = df_cleared_so2[columns]\n",
    "\n",
    "df_cleared_so2"
   ]
  },
  {
   "cell_type": "code",
   "execution_count": null,
   "metadata": {},
   "outputs": [],
   "source": [
    "# We retrieve the significant volcaniv eruption file\n",
    "gdf_raw_eruptions = gpd.read_file(\"https://public.opendatasoft.com/api/explore/v2.1/catalog/datasets/significant-volcanic-eruption-database/exports/geojson?lang=fr&timezone=Europe%2FBerlin\")\n",
    "\n",
    "# We clear the geo dataframe from NaN values and keep significative columns\n",
    "columns = ['name', 'country', 'elevation', 'type', 'year', 'geometry']\n",
    "gdf_cleared_eruptions = gdf_raw_eruptions[columns]\n",
    "gdf_cleared_eruptions = gdf_cleared_eruptions.dropna(subset=columns)\n",
    "\n",
    "gdf_cleared_eruptions"
   ]
  },
  {
   "cell_type": "code",
   "execution_count": null,
   "metadata": {},
   "outputs": [],
   "source": [
    "from shapely.geometry import Point\n",
    "\n",
    "# We convert the so2 dataframe to a geo dataframe before joining the so2 and significative eruption dataframes\n",
    "# based on their latitude and longitude\n",
    "geometry = [Point(xy) for xy in zip(df_cleared_so2['lon'], df_cleared_so2['lat'])]\n",
    "gdf_cleared_so2 = gpd.GeoDataFrame(df_cleared_so2, geometry=geometry, crs='EPSG:4326')\n",
    "gdf_cleared_so2"
   ]
  },
  {
   "cell_type": "code",
   "execution_count": null,
   "metadata": {},
   "outputs": [],
   "source": [
    "# We fix the CRS of the dataframes before the spatial join operation\n",
    "gdf_cleared_so2 = gdf_cleared_so2.to_crs(3857)\n",
    "gdf_cleared_eruptions = gdf_cleared_eruptions.to_crs(3857)\n",
    "\n",
    "# We join the dataframes\n",
    "joined_gdf = gdf_cleared_so2.sjoin_nearest(gdf_cleared_eruptions, max_distance=4000)\n",
    "\n",
    "# We keep only lines where years are equals\n",
    "filtered_gdf = joined_gdf[joined_gdf['yyyy'] == joined_gdf['year']]\n",
    "\n",
    "filtered_gdf"
   ]
  },
  {
   "cell_type": "code",
   "execution_count": null,
   "metadata": {},
   "outputs": [],
   "source": [
    "# We keep significative columns and reset indexes\n",
    "filtered_gdf = filtered_gdf[['name', 'country', 'lat', 'lon', 'yyyy', 'mm', 'dd', 'elevation', 'type', 'geometry', 'so2(kt)']]\n",
    "filtered_gdf.reset_index(inplace=True, drop=True)\n",
    "\n",
    "# We rename the dataframe's variable\n",
    "df_nargeot_patte = filtered_gdf\n",
    "\n",
    "df_nargeot_patte"
   ]
  },
  {
   "cell_type": "code",
   "execution_count": null,
   "metadata": {},
   "outputs": [],
   "source": [
    "#volcano_weather = pd.DataFrame(columns=['year', 'month', 'volcano_name', 'country', 'eruption_so2', 'lat', 'lng'])"
   ]
  },
  {
   "cell_type": "code",
   "execution_count": null,
   "metadata": {},
   "outputs": [],
   "source": [
    "volcano_map = fl.Map(zoom_start=10)\n",
    "\n",
    "for index, row in filtered_gdf.drop_duplicates(subset='name', keep='first').iterrows():\n",
    "    fl.Marker(\n",
    "        location=[row['lat'], row['lon']],\n",
    "        popup=row['name']\n",
    "    ).add_to(volcano_map)\n",
    "\n",
    "volcano_map"
   ]
  },
  {
   "cell_type": "code",
   "execution_count": null,
   "metadata": {},
   "outputs": [],
   "source": [
    "url = \"https://www.data.jma.go.jp/obd/stats/etrn/view/monthly_s3_en.php?block_no=47807&view=1\"\n",
    "page = urlopen(url)\n",
    "html = page.read().decode(\"utf-8\")\n",
    "soup = BeautifulSoup(html, \"html.parser\")"
   ]
  },
  {
   "cell_type": "code",
   "execution_count": null,
   "metadata": {},
   "outputs": [],
   "source": [
    "rows = soup.find_all(\"tr\", {\"class\": \"mtx\"})\n",
    "\n",
    "df_japan_temperature = pd.DataFrame(columns=['year', 'jan', 'feb', 'mar', 'apr', 'may', 'jun', 'jul', 'aug', 'sep', 'oct', 'nov', 'dec', 'ann'])\n",
    "\n",
    "for idx, row in enumerate(rows):\n",
    "    data = row.get_text(\" \").split(' ')\n",
    "    if len(data) == 14:\n",
    "        df_japan_temperature.loc[idx] = data\n",
    "\n",
    "df_japan_temperature"
   ]
  },
  {
   "cell_type": "markdown",
   "metadata": {},
   "source": [
    "## Analyse"
   ]
  },
  {
   "cell_type": "code",
   "execution_count": null,
   "metadata": {
    "collapsed": false
   },
   "outputs": [],
   "source": [
    "monthly_t = pd.read_json(\"https://pkgstore.datahub.io/core/global-temp/monthly_json/data/4c7af7363a20648a68b8f2038a6765d6/monthly_json.json\") # Reading the json file of global monthly temperature anomaly\n",
    "\n",
    "monthly_t = monthly_t.loc[monthly_t[\"Source\"] == \"GISTEMP\"] # Only keep values from GISTEMP (nasa)\n",
    "monthly_t.reset_index(inplace=True) # Reset row index to manipulate rows easily\n",
    "\n",
    "# Splitting the date in format yyyy-mm-dd into Year and Month to use it with other data later\n",
    "year = [monthly_t[\"Date\"][date].year for date in range(len(monthly_t[\"Date\"]))] # Create a 'Year' column from the timestamp given in 'Date'\n",
    "monthly_t[\"year\"] = year\n",
    "\n",
    "month = [monthly_t[\"Date\"][date].month for date in range(len(monthly_t[\"Date\"]))] # Create a 'Month' column from the timestamp given in 'Date'\n",
    "monthly_t[\"month\"] = month\n",
    "\n",
    "monthly_t = monthly_t.drop(['Date', 'Source'], axis=1) # Delete useless rows for later use\n",
    "monthly_t = monthly_t.reindex(columns=['year', 'month', 'Mean']) # Put date first then temperature anomaly\n",
    "monthly_t.sort_values(by=['year','month'], inplace=True) # Sort by ascending date\n",
    "monthly_t.reset_index(inplace=True, drop=True) # Reset index for readability \n",
    "monthly_t = monthly_t.rename(columns={\"Mean\" : \"t_anomaly\"}) # rename Mean for readability\n",
    "monthly_t\n"
   ]
  },
  {
   "cell_type": "code",
   "execution_count": null,
   "metadata": {},
   "outputs": [],
   "source": [
    "monthly_t.reset_index(inplace=True, drop=True)\n",
    "volcano_weather.reset_index(inplace=True, drop=True)\n",
    "\n",
    "date = [str(volcano_weather[\"year\"][date]) + str(volcano_weather[\"month\"][date]) for date in range(len(volcano_weather[\"year\"]))]\n",
    "volcano_weather[\"date\"] = date\n",
    "date = [str(monthly_t[\"year\"][date]) + str(monthly_t[\"month\"][date]) for date in range(len(monthly_t[\"year\"]))]\n",
    "monthly_t[\"Date\"] = date\n",
    "\n",
    "monthly_t = monthly_t[monthly_t['Date'].isin(volcano_weather[\"date\"])]\n",
    "\n",
    "\n",
    "volcano_temperature = pd.merge(monthly_t, volcano_weather, on=[\"year\", \"month\"], how=\"right\")\n",
    "print(volcano_temperature)\n"
   ]
  },
  {
   "cell_type": "code",
   "execution_count": null,
   "metadata": {},
   "outputs": [],
   "source": [
    "plt.figure(figsize=(9,4), dpi=100)\n",
    "plt.plot(volcano_temperature[\"year\"], volcano_temperature[\"t_anomaly\"])\n",
    "plt.xlabel('Year')\n",
    "plt.ylabel('Temperature anomaly')\n",
    "plt.legend(['Anomaly of temperature for each year'], loc=(0.02, 0.88))\n",
    "plt.title('Comparison of temperature and sulfure emission', pad=10, fontsize=14, style='italic')\n",
    "plt.subplot()\n",
    "plt.plot(volcano_temperature[\"year\"], volcano_temperature[\"eruption_so2\"]/10000); plt.legend(\"Sulfure emission for each year\")"
   ]
  },
  {
   "cell_type": "code",
   "execution_count": null,
   "metadata": {},
   "outputs": [],
   "source": [
    "plt.figure(figsize=(8,4), dpi=100)\n",
    "plt.plot(volcano_temperature[\"t_anomaly\"], np.log(volcano_temperature[\"eruption_so2\"]))\n",
    "plt.xlabel('temperature anomaly'); plt.ylabel('sulfure emission'); # labels\n",
    "plt.title('Visualisation de données éparses', pad=10, fontsize=14, style='italic'); # titre"
   ]
  }
 ],
 "metadata": {
  "kernelspec": {
   "display_name": "base",
   "language": "python",
   "name": "python3"
  },
  "language_info": {
   "codemirror_mode": {
    "name": "ipython",
    "version": 3
   },
   "file_extension": ".py",
   "mimetype": "text/x-python",
   "name": "python",
   "nbconvert_exporter": "python",
   "pygments_lexer": "ipython3",
   "version": "3.11.5"
  }
 },
 "nbformat": 4,
 "nbformat_minor": 2
}
