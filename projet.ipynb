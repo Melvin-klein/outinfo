{
 "cells": [
  {
   "cell_type": "markdown",
   "metadata": {},
   "source": [
    "**NARGEOT** Melvine\n",
    "**PATTE** Mathys\n",
    "\n",
    "# Projet Outil Informatique"
   ]
  },
  {
   "cell_type": "code",
   "execution_count": null,
   "metadata": {
    "collapsed": false
   },
   "outputs": [],
   "source": [
    "%pip install requests"
   ]
  },
  {
   "cell_type": "code",
   "execution_count": null,
   "metadata": {},
   "outputs": [],
   "source": [
    "import numpy as np\n",
    "import matplotlib.pyplot as plt\n",
    "import pandas as pd\n",
    "import requests"
   ]
  },
  {
   "cell_type": "markdown",
   "metadata": {},
   "source": [
    "## Données"
   ]
  },
  {
   "cell_type": "markdown",
   "metadata": {},
   "source": [
    "### Sources\n",
    "\n",
    "https://www.ngdc.noaa.gov/hazel/hazard-service/api/v1/volcanoes?page=1\n",
    "\n",
    "https://volcano.si.edu/search_eruption.cfm\n",
    "\n",
    "https://www.kaggle.com/datasets/jessemostipak/volcano-eruptions/\n",
    "\n",
    "https://data.cerdi.uca.fr/erup-vol/\n",
    "\n",
    "https://public.opendatasoft.com/explore/dataset/significant-volcanic-eruption-database/export/\n",
    "\n",
    "https://www.ngdc.noaa.gov/hazel/view/hazards/volcano/event-search/\n",
    "\n",
    "https://berkeleyearth.org/data/"
   ]
  },
  {
   "cell_type": "markdown",
   "metadata": {},
   "source": [
    "### Import"
   ]
  },
  {
   "cell_type": "code",
   "execution_count": null,
   "metadata": {
    "ExecuteTime": {
     "end_time": "2023-12-16T11:22:59.742391440Z",
     "start_time": "2023-12-16T11:22:58.987023424Z"
    },
    "collapsed": false
   },
   "outputs": [],
   "source": [
    "url = (\"https://public.opendatasoft.com/api/explore/v2.1/catalog/datasets/significant-volcanic-eruption-database/exports/json?lang=fr&timezone=Europe%2FBerlin\")\n",
    "\n",
    "response = requests.get(url)\n",
    "\n",
    "with open(\"datasets/volcanic.json\", mode=\"wb\") as file:\n",
    "    file.write(response.content)"
   ]
  },
  {
   "cell_type": "code",
   "execution_count": null,
   "metadata": {
    "ExecuteTime": {
     "end_time": "2023-12-16T11:24:31.736068318Z",
     "start_time": "2023-12-16T11:24:31.564705055Z"
    },
    "collapsed": false
   },
   "outputs": [],
   "source": [
    "volcanic = pd.read_json(\"datasets/volcanic.json\")"
   ]
  },
  {
   "cell_type": "markdown",
   "metadata": {},
   "source": [
    "### Cleaning"
   ]
  },
  {
   "cell_type": "markdown",
   "metadata": {},
   "source": [
    "## Analyse"
   ]
  },
  {
   "cell_type": "code",
   "execution_count": null,
   "metadata": {
    "collapsed": false
   },
   "outputs": [],
   "source": [
    "monthly_t = pd.read_json(\"datasets/monthly_t.json\") # Reading the json file of global monthly temperature anomaly\n",
    "\n",
    "monthly_t = monthly_t.loc[monthly_t[\"Source\"] == \"GISTEMP\"] # Only keep values from GISTEMP (nasa)\n",
    "monthly_t.reset_index(inplace=True) # Reset row index to manipulate rows easily\n",
    "\n",
    "# Splitting the date in format yyyy-mm-dd into Year and Month to use it with other data later\n",
    "year = [monthly_t[\"Date\"][date].year for date in range(len(monthly_t[\"Date\"]))] # Create a 'Year' column from the timestamp given in 'Date'\n",
    "monthly_t[\"Year\"] = year\n",
    "\n",
    "month = [monthly_t[\"Date\"][date].month for date in range(len(monthly_t[\"Date\"]))] # Create a 'Month' column from the timestamp given in 'Date'\n",
    "monthly_t[\"Month\"] = month\n",
    "\n",
    "monthly_t = monthly_t.drop(['Date', 'Source'], axis=1) # Delete useless rows for later use\n",
    "monthly_t = monthly_t.reindex(columns=['Year', 'Month', 'Mean']) # Put date first then temperature anomaly\n",
    "monthly_t.sort_values(by=['Year','Month'], inplace=True) # Sort by ascending date\n",
    "monthly_t.reset_index(inplace=True, drop=True) # Reset index for readability \n",
    "monthly_t\n"
   ]
  }
 ],
 "metadata": {
  "kernelspec": {
   "display_name": "base",
   "language": "python",
   "name": "python3"
  },
  "language_info": {
   "codemirror_mode": {
    "name": "ipython",
    "version": 3
   },
   "file_extension": ".py",
   "mimetype": "text/x-python",
   "name": "python",
   "nbconvert_exporter": "python",
   "pygments_lexer": "ipython3",
   "version": "3.11.5"
  }
 },
 "nbformat": 4,
 "nbformat_minor": 2
}
