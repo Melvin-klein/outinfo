{
 "cells": [
  {
   "cell_type": "markdown",
   "metadata": {},
   "source": [
    "https://datahub.io/core/global-temp#resource-monthly\n",
    "# SOUTENANCE\n",
    "\n",
    "## DONNEES\n",
    "\n",
    "### Récupération des données : \n",
    "\n",
    "- Récupération des données via package 'requests', téléchargées dans 'datasets' | Latence avant téléchargement | Abandon\n",
    "\n",
    "- Tri des sites et bases de données ayant un intérêt pour la comparaison Éruption/Température (suppression data sur dégats économiques)\n",
    "\n",
    "- Lecture des données (JSON, TXT, GeoJSON, webscraping) via 'pandas'\n",
    "\n",
    "\n",
    "## Analyse\n",
    "\n",
    "### But de l'analyse :\n",
    "\n",
    "- Comparer les températures globales et les éruptions volcaniques pour trouver d'éventuelles corrélations entre les deux (normalement une baisse des températures suite à une grosse éruption : \"Volcanoes emit sulfur dioxide gas (SO2), which reacts with water in the atmosphere to form sulfuric acid (H2SO4). When volcanic plumes are emitted powerfully enough to reach the stratosphere,a the H2SO4 can form a persistent haze of liquid droplets, reflecting away sunlight and cooling the earth for a year or two.\" Daniel Kirk-Davidoff, in Green Chemistry, 2018)\n",
    "\n",
    "- Utilisation du VEI (Volcano Explosivity Index) pour qualifier la puissance des volcans, autres données trop peu informatives (dégats économiques, nombres de morts...). Faiblesse : les volcans non explosifs peuvent peut-être avoir un impact similaire/plus important que ceux explosifs | Abandon\n",
    "\n",
    "- Utilisation du sulfure émis dans l'atmoshphère pour comparer les mois en fonction des éruptions et ainsi pouvoir observer le lien entre la température et les emissions de sulfure\n",
    "\n",
    "### Procédé : \n",
    "- Récupération des données de différentes sources : \"NOAA\", \"Japan Meteorological Agency\", \"Nasa\" \n",
    "\n",
    "- Fusion des données et création d'un dataframe avec les années, mois, volcans, émissions de sulfure, variations de température globale en colonnes\n",
    "\n",
    "- Analyse des données ensembles : graphe comparaison anomalie de température/émission de sulfure /!\\ ❌\n",
    "\n",
    "- Analyse Japon en utilisant les émissions de sulfure des volcans japonais et les données d'anomalie de température locale /!\\ ❌\n",
    "\n",
    "- Utilisation SQL /!\\ ❌\n",
    "\n",
    "- Création d'une carte des volcans en utilisant données geographiques\n",
    "\n",
    "- Documentation /!\\ ❌\n",
    "\n",
    "### Difficultés : \n",
    "\n",
    "- Fichier nc : dataset xarray non convertible en dataframe car trop de dimensions, variable temperature non comprise |Abandon"
   ]
  },
  {
   "cell_type": "markdown",
   "metadata": {},
   "source": [
    "https://www.sciencedirect.com/topics/earth-and-planetary-sciences/volcanic-aerosol\n",
    "\n",
    "The Greenhouse Effect, Aerosols, and Climate Change\n",
    "\n",
    "Daniel Kirk-Davidoff, in Green Chemistry, 2018\n",
    "\n",
    "\"Volcanoes emit sulfur dioxide gas (SO2), which reacts with water in the atmosphere to form sulfuric acid (H2SO4). When volcanic plumes are emitted powerfully enough to reach the stratosphere,a the H2SO4 can form a persistent haze of liquid droplets, reflecting away sunlight and cooling the earth for a year or two.\""
   ]
  },
  {
   "cell_type": "markdown",
   "metadata": {},
   "source": [
    "### Sources\n",
    "\n",
    "https://www.ngdc.noaa.gov/hazel/hazard-service/api/v1/volcanoes?page=1\n",
    "\n",
    "https://volcano.si.edu/search_eruption.cfm\n",
    "\n",
    "https://www.kaggle.com/datasets/jessemostipak/volcano-eruptions/\n",
    "\n",
    "https://data.cerdi.uca.fr/erup-vol/\n",
    "\n",
    "https://public.opendatasoft.com/explore/dataset/significant-volcanic-eruption-database/export/\n",
    "\n",
    "https://www.ngdc.noaa.gov/hazel/view/hazards/volcano/event-search/\n",
    "\n",
    "https://berkeleyearth.org/data/\n",
    "\n",
    "https://disc.gsfc.nasa.gov/datasets?keywords=%22msvolso2l4%22%7C%22tomsn7so2%22%7C%22OMPS_NPP_NMSO2_PCA_L2%22%7C%22MSAQSO2L4%22&page=1&subject=Aerosols\n",
    "\n",
    "https://measures.gesdisc.eosdis.nasa.gov/data/SO2/MSVOLSO2L4.4/MSVOLSO2L4_v04-00-2022m0505.txt"
   ]
  }
 ],
 "metadata": {
  "language_info": {
   "name": "python"
  }
 },
 "nbformat": 4,
 "nbformat_minor": 2
}
