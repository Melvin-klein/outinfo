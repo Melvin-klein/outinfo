{
 "cells": [
  {
   "cell_type": "markdown",
   "metadata": {},
   "source": [
    "### SOUTENANCE\n",
    "\n",
    "## DONNEES\n",
    "\n",
    "Récupération des données : \n",
    "- Téléchargement des données via package 'requests'\n",
    "- Lecture des données (JSON, csv, GeoJson)\n"
   ]
  }
 ],
 "metadata": {
  "language_info": {
   "name": "python"
  }
 },
 "nbformat": 4,
 "nbformat_minor": 2
}
