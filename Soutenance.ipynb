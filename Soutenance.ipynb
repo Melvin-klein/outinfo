{
 "cells": [
  {
   "cell_type": "markdown",
   "metadata": {},
   "source": [
    "https://datahub.io/core/global-temp#resource-monthly\n",
    "# SOUTENANCE\n",
    "\n",
    "## DONNEES\n",
    "\n",
    "### Récupération des données : \n",
    "\n",
    "- Récupération des données via package 'requests', téléchargées dans 'datasets' | Latence avant téléchargement | Abandon\n",
    "\n",
    "- Tri des sites et bases de données ayant un intérêt pour la comparaison Éruption/Température (suppression data sur dégats économiques)\n",
    "\n",
    "- Lecture des données (JSON, TXT, GeoJSON, webscraping) via 'pandas'\n",
    "\n",
    "\n",
    "## Analyse\n",
    "\n",
    "### But de l'analyse :\n",
    "\n",
    "- Comparer les températures globales et les éruptions volcaniques pour trouver d'éventuelles corrélations entre les deux (normalement une baisse des températures suite à une grosse éruption : \"Volcanoes emit sulfur dioxide gas (SO2), which reacts with water in the atmosphere to form sulfuric acid (H2SO4). When volcanic plumes are emitted powerfully enough to reach the stratosphere,a the H2SO4 can form a persistent haze of liquid droplets, reflecting away sunlight and cooling the earth for a year or two.\" Daniel Kirk-Davidoff, in Green Chemistry, 2018)\n",
    "\n",
    "- Utilisation du VEI (Volcano Explosivity Index) pour qualifier la puissance des volcans, autres données trop peu informatives (dégats économiques, nombres de morts...). Faiblesse : les volcans non explosifs peuvent peut-être avoir un impact similaire/plus important que ceux explosifs | Abandon\n",
    "\n",
    "- Utilisation du sulfure émis dans l'atmoshphère pour comparer les mois en fonction des éruptions et ainsi pouvoir observer le lien entre la température et les emissions de sulfure\n",
    "\n",
    "### Procédé : \n",
    "- Récupération des données de différentes sources : \"NOAA\", \"Japan Meteorilogical Agency\", \"Nasa\" \n",
    "\n",
    "- Fusion des données et création d'un dataframe avec les années, mois, volcans, émissions de sulfure, variations de température globale en colonnes\n",
    "\n",
    "- Analyse des données ensembles : graphe comparaison anomalie de température/émission de sulfure /!\\ ❌\n",
    "\n",
    "- Analyse Japon en utilisant les émissions de sulfure des volcans japonais et les données d'anomalie de température locale /!\\ ❌\n",
    "\n",
    "- Utilisation SQL /!\\ ❌\n",
    "\n",
    "- Création d'une carte des volcans en utilisant données geographiques\n",
    "\n",
    "- Documentation /!\\ ❌\n",
    "\n",
    "### Difficultés : \n",
    "\n",
    "- Fichier nc : dataset xarray non convertible en dataframe car trop de dimensions, variable temperature non comprise |Abandon"
   ]
  }
 ],
 "metadata": {
  "language_info": {
   "name": "python"
  }
 },
 "nbformat": 4,
 "nbformat_minor": 2
}
